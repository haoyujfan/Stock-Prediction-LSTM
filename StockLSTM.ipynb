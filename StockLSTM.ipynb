{
  "nbformat": 4,
  "nbformat_minor": 0,
  "metadata": {
    "colab": {
      "name": "StockLSTM.ipynb",
      "provenance": [],
      "authorship_tag": "ABX9TyMTPnei02PIFFSUj0NWIy/y",
      "include_colab_link": true
    },
    "kernelspec": {
      "name": "python3",
      "display_name": "Python 3"
    },
    "language_info": {
      "name": "python"
    }
  },
  "cells": [
    {
      "cell_type": "markdown",
      "metadata": {
        "id": "view-in-github",
        "colab_type": "text"
      },
      "source": [
        "<a href=\"https://colab.research.google.com/github/haoyujfan/Stock-Prediction-LSTM/blob/master/StockLSTM.ipynb\" target=\"_parent\"><img src=\"https://colab.research.google.com/assets/colab-badge.svg\" alt=\"Open In Colab\"/></a>"
      ]
    },
    {
      "cell_type": "code",
      "execution_count": null,
      "metadata": {
        "id": "zHsy4zL1OTU-"
      },
      "outputs": [],
      "source": [
        "# Description \n",
        "# This program uses an artificial recurrent neural network called Long Short Term Memory (LSTM)\n",
        "# to predict the closing stock price of a corporation using the past 60 day stock price"
      ]
    },
    {
      "cell_type": "code",
      "source": [
        "# install yahoo finance API\n",
        "!pip install yfinance"
      ],
      "metadata": {
        "colab": {
          "base_uri": "https://localhost:8080/"
        },
        "id": "b0VX5uQqR0Rk",
        "outputId": "b4ad11f9-2026-42f9-80f0-eb5d220b0734"
      },
      "execution_count": 1,
      "outputs": [
        {
          "output_type": "stream",
          "name": "stdout",
          "text": [
            "Looking in indexes: https://pypi.org/simple, https://us-python.pkg.dev/colab-wheels/public/simple/\n",
            "Collecting yfinance\n",
            "  Downloading yfinance-0.1.70-py2.py3-none-any.whl (26 kB)\n",
            "Requirement already satisfied: numpy>=1.15 in /usr/local/lib/python3.7/dist-packages (from yfinance) (1.21.6)\n",
            "Requirement already satisfied: multitasking>=0.0.7 in /usr/local/lib/python3.7/dist-packages (from yfinance) (0.0.10)\n",
            "Requirement already satisfied: pandas>=0.24.0 in /usr/local/lib/python3.7/dist-packages (from yfinance) (1.3.5)\n",
            "Collecting requests>=2.26\n",
            "  Downloading requests-2.27.1-py2.py3-none-any.whl (63 kB)\n",
            "\u001b[K     |████████████████████████████████| 63 kB 831 kB/s \n",
            "\u001b[?25hCollecting lxml>=4.5.1\n",
            "  Downloading lxml-4.9.0-cp37-cp37m-manylinux_2_17_x86_64.manylinux2014_x86_64.manylinux_2_24_x86_64.whl (6.4 MB)\n",
            "\u001b[K     |████████████████████████████████| 6.4 MB 37.7 MB/s \n",
            "\u001b[?25hRequirement already satisfied: pytz>=2017.3 in /usr/local/lib/python3.7/dist-packages (from pandas>=0.24.0->yfinance) (2022.1)\n",
            "Requirement already satisfied: python-dateutil>=2.7.3 in /usr/local/lib/python3.7/dist-packages (from pandas>=0.24.0->yfinance) (2.8.2)\n",
            "Requirement already satisfied: six>=1.5 in /usr/local/lib/python3.7/dist-packages (from python-dateutil>=2.7.3->pandas>=0.24.0->yfinance) (1.15.0)\n",
            "Requirement already satisfied: certifi>=2017.4.17 in /usr/local/lib/python3.7/dist-packages (from requests>=2.26->yfinance) (2022.5.18.1)\n",
            "Requirement already satisfied: idna<4,>=2.5 in /usr/local/lib/python3.7/dist-packages (from requests>=2.26->yfinance) (2.10)\n",
            "Requirement already satisfied: urllib3<1.27,>=1.21.1 in /usr/local/lib/python3.7/dist-packages (from requests>=2.26->yfinance) (1.24.3)\n",
            "Requirement already satisfied: charset-normalizer~=2.0.0 in /usr/local/lib/python3.7/dist-packages (from requests>=2.26->yfinance) (2.0.12)\n",
            "Installing collected packages: requests, lxml, yfinance\n",
            "  Attempting uninstall: requests\n",
            "    Found existing installation: requests 2.23.0\n",
            "    Uninstalling requests-2.23.0:\n",
            "      Successfully uninstalled requests-2.23.0\n",
            "  Attempting uninstall: lxml\n",
            "    Found existing installation: lxml 4.2.6\n",
            "    Uninstalling lxml-4.2.6:\n",
            "      Successfully uninstalled lxml-4.2.6\n",
            "\u001b[31mERROR: pip's dependency resolver does not currently take into account all the packages that are installed. This behaviour is the source of the following dependency conflicts.\n",
            "google-colab 1.0.0 requires requests~=2.23.0, but you have requests 2.27.1 which is incompatible.\n",
            "datascience 0.10.6 requires folium==0.2.1, but you have folium 0.8.3 which is incompatible.\u001b[0m\n",
            "Successfully installed lxml-4.9.0 requests-2.27.1 yfinance-0.1.70\n"
          ]
        }
      ]
    },
    {
      "cell_type": "code",
      "source": [
        "# Import the libraries \n",
        "import math \n",
        "import pandas_datareader as web\n",
        "import yfinance as yf\n",
        "import numpy as np \n",
        "import pandas as pd \n",
        "from sklearn.preprocessing import MinMaxScaler \n",
        "from keras.models import Sequential \n",
        "from keras.layers import Dense, LSTM\n",
        "import matplotlib.pyplot as plt\n",
        "plt.style.use('fivethirtyeight')"
      ],
      "metadata": {
        "id": "H2obry-XOi1z"
      },
      "execution_count": 2,
      "outputs": []
    },
    {
      "cell_type": "code",
      "source": [
        "# Get the stock quote \n",
        "df = yf.download('AAPL', start='2014-01-01', end='2022-06-05')\n",
        "# Show the data\n",
        "df"
      ],
      "metadata": {
        "colab": {
          "base_uri": "https://localhost:8080/",
          "height": 467
        },
        "id": "4urrGpemO5N0",
        "outputId": "f9bb2f4b-c636-4829-edeb-65d469cda283"
      },
      "execution_count": 3,
      "outputs": [
        {
          "output_type": "stream",
          "name": "stdout",
          "text": [
            "\r[*********************100%***********************]  1 of 1 completed\n"
          ]
        },
        {
          "output_type": "execute_result",
          "data": {
            "text/plain": [
              "                  Open        High         Low       Close   Adj Close  \\\n",
              "Date                                                                     \n",
              "2014-01-02   19.845715   19.893929   19.715000   19.754642   17.468655   \n",
              "2014-01-03   19.745001   19.775000   19.301071   19.320715   17.084940   \n",
              "2014-01-06   19.194643   19.528570   19.057142   19.426071   17.178104   \n",
              "2014-01-07   19.440001   19.498571   19.211430   19.287144   17.055250   \n",
              "2014-01-08   19.243214   19.484285   19.238930   19.409286   17.163261   \n",
              "...                ...         ...         ...         ...         ...   \n",
              "2022-05-27  145.389999  149.679993  145.259995  149.639999  149.639999   \n",
              "2022-05-31  149.070007  150.660004  146.839996  148.839996  148.839996   \n",
              "2022-06-01  149.899994  151.740005  147.679993  148.710007  148.710007   \n",
              "2022-06-02  147.830002  151.270004  146.860001  151.210007  151.210007   \n",
              "2022-06-03  146.899994  147.970001  144.460007  145.380005  145.380005   \n",
              "\n",
              "               Volume  \n",
              "Date                   \n",
              "2014-01-02  234684800  \n",
              "2014-01-03  392467600  \n",
              "2014-01-06  412610800  \n",
              "2014-01-07  317209200  \n",
              "2014-01-08  258529600  \n",
              "...               ...  \n",
              "2022-05-27   90978500  \n",
              "2022-05-31  103718400  \n",
              "2022-06-01   74286600  \n",
              "2022-06-02   72348100  \n",
              "2022-06-03   88471400  \n",
              "\n",
              "[2121 rows x 6 columns]"
            ],
            "text/html": [
              "\n",
              "  <div id=\"df-407fdf1f-b660-4266-bc51-856aea477a94\">\n",
              "    <div class=\"colab-df-container\">\n",
              "      <div>\n",
              "<style scoped>\n",
              "    .dataframe tbody tr th:only-of-type {\n",
              "        vertical-align: middle;\n",
              "    }\n",
              "\n",
              "    .dataframe tbody tr th {\n",
              "        vertical-align: top;\n",
              "    }\n",
              "\n",
              "    .dataframe thead th {\n",
              "        text-align: right;\n",
              "    }\n",
              "</style>\n",
              "<table border=\"1\" class=\"dataframe\">\n",
              "  <thead>\n",
              "    <tr style=\"text-align: right;\">\n",
              "      <th></th>\n",
              "      <th>Open</th>\n",
              "      <th>High</th>\n",
              "      <th>Low</th>\n",
              "      <th>Close</th>\n",
              "      <th>Adj Close</th>\n",
              "      <th>Volume</th>\n",
              "    </tr>\n",
              "    <tr>\n",
              "      <th>Date</th>\n",
              "      <th></th>\n",
              "      <th></th>\n",
              "      <th></th>\n",
              "      <th></th>\n",
              "      <th></th>\n",
              "      <th></th>\n",
              "    </tr>\n",
              "  </thead>\n",
              "  <tbody>\n",
              "    <tr>\n",
              "      <th>2014-01-02</th>\n",
              "      <td>19.845715</td>\n",
              "      <td>19.893929</td>\n",
              "      <td>19.715000</td>\n",
              "      <td>19.754642</td>\n",
              "      <td>17.468655</td>\n",
              "      <td>234684800</td>\n",
              "    </tr>\n",
              "    <tr>\n",
              "      <th>2014-01-03</th>\n",
              "      <td>19.745001</td>\n",
              "      <td>19.775000</td>\n",
              "      <td>19.301071</td>\n",
              "      <td>19.320715</td>\n",
              "      <td>17.084940</td>\n",
              "      <td>392467600</td>\n",
              "    </tr>\n",
              "    <tr>\n",
              "      <th>2014-01-06</th>\n",
              "      <td>19.194643</td>\n",
              "      <td>19.528570</td>\n",
              "      <td>19.057142</td>\n",
              "      <td>19.426071</td>\n",
              "      <td>17.178104</td>\n",
              "      <td>412610800</td>\n",
              "    </tr>\n",
              "    <tr>\n",
              "      <th>2014-01-07</th>\n",
              "      <td>19.440001</td>\n",
              "      <td>19.498571</td>\n",
              "      <td>19.211430</td>\n",
              "      <td>19.287144</td>\n",
              "      <td>17.055250</td>\n",
              "      <td>317209200</td>\n",
              "    </tr>\n",
              "    <tr>\n",
              "      <th>2014-01-08</th>\n",
              "      <td>19.243214</td>\n",
              "      <td>19.484285</td>\n",
              "      <td>19.238930</td>\n",
              "      <td>19.409286</td>\n",
              "      <td>17.163261</td>\n",
              "      <td>258529600</td>\n",
              "    </tr>\n",
              "    <tr>\n",
              "      <th>...</th>\n",
              "      <td>...</td>\n",
              "      <td>...</td>\n",
              "      <td>...</td>\n",
              "      <td>...</td>\n",
              "      <td>...</td>\n",
              "      <td>...</td>\n",
              "    </tr>\n",
              "    <tr>\n",
              "      <th>2022-05-27</th>\n",
              "      <td>145.389999</td>\n",
              "      <td>149.679993</td>\n",
              "      <td>145.259995</td>\n",
              "      <td>149.639999</td>\n",
              "      <td>149.639999</td>\n",
              "      <td>90978500</td>\n",
              "    </tr>\n",
              "    <tr>\n",
              "      <th>2022-05-31</th>\n",
              "      <td>149.070007</td>\n",
              "      <td>150.660004</td>\n",
              "      <td>146.839996</td>\n",
              "      <td>148.839996</td>\n",
              "      <td>148.839996</td>\n",
              "      <td>103718400</td>\n",
              "    </tr>\n",
              "    <tr>\n",
              "      <th>2022-06-01</th>\n",
              "      <td>149.899994</td>\n",
              "      <td>151.740005</td>\n",
              "      <td>147.679993</td>\n",
              "      <td>148.710007</td>\n",
              "      <td>148.710007</td>\n",
              "      <td>74286600</td>\n",
              "    </tr>\n",
              "    <tr>\n",
              "      <th>2022-06-02</th>\n",
              "      <td>147.830002</td>\n",
              "      <td>151.270004</td>\n",
              "      <td>146.860001</td>\n",
              "      <td>151.210007</td>\n",
              "      <td>151.210007</td>\n",
              "      <td>72348100</td>\n",
              "    </tr>\n",
              "    <tr>\n",
              "      <th>2022-06-03</th>\n",
              "      <td>146.899994</td>\n",
              "      <td>147.970001</td>\n",
              "      <td>144.460007</td>\n",
              "      <td>145.380005</td>\n",
              "      <td>145.380005</td>\n",
              "      <td>88471400</td>\n",
              "    </tr>\n",
              "  </tbody>\n",
              "</table>\n",
              "<p>2121 rows × 6 columns</p>\n",
              "</div>\n",
              "      <button class=\"colab-df-convert\" onclick=\"convertToInteractive('df-407fdf1f-b660-4266-bc51-856aea477a94')\"\n",
              "              title=\"Convert this dataframe to an interactive table.\"\n",
              "              style=\"display:none;\">\n",
              "        \n",
              "  <svg xmlns=\"http://www.w3.org/2000/svg\" height=\"24px\"viewBox=\"0 0 24 24\"\n",
              "       width=\"24px\">\n",
              "    <path d=\"M0 0h24v24H0V0z\" fill=\"none\"/>\n",
              "    <path d=\"M18.56 5.44l.94 2.06.94-2.06 2.06-.94-2.06-.94-.94-2.06-.94 2.06-2.06.94zm-11 1L8.5 8.5l.94-2.06 2.06-.94-2.06-.94L8.5 2.5l-.94 2.06-2.06.94zm10 10l.94 2.06.94-2.06 2.06-.94-2.06-.94-.94-2.06-.94 2.06-2.06.94z\"/><path d=\"M17.41 7.96l-1.37-1.37c-.4-.4-.92-.59-1.43-.59-.52 0-1.04.2-1.43.59L10.3 9.45l-7.72 7.72c-.78.78-.78 2.05 0 2.83L4 21.41c.39.39.9.59 1.41.59.51 0 1.02-.2 1.41-.59l7.78-7.78 2.81-2.81c.8-.78.8-2.07 0-2.86zM5.41 20L4 18.59l7.72-7.72 1.47 1.35L5.41 20z\"/>\n",
              "  </svg>\n",
              "      </button>\n",
              "      \n",
              "  <style>\n",
              "    .colab-df-container {\n",
              "      display:flex;\n",
              "      flex-wrap:wrap;\n",
              "      gap: 12px;\n",
              "    }\n",
              "\n",
              "    .colab-df-convert {\n",
              "      background-color: #E8F0FE;\n",
              "      border: none;\n",
              "      border-radius: 50%;\n",
              "      cursor: pointer;\n",
              "      display: none;\n",
              "      fill: #1967D2;\n",
              "      height: 32px;\n",
              "      padding: 0 0 0 0;\n",
              "      width: 32px;\n",
              "    }\n",
              "\n",
              "    .colab-df-convert:hover {\n",
              "      background-color: #E2EBFA;\n",
              "      box-shadow: 0px 1px 2px rgba(60, 64, 67, 0.3), 0px 1px 3px 1px rgba(60, 64, 67, 0.15);\n",
              "      fill: #174EA6;\n",
              "    }\n",
              "\n",
              "    [theme=dark] .colab-df-convert {\n",
              "      background-color: #3B4455;\n",
              "      fill: #D2E3FC;\n",
              "    }\n",
              "\n",
              "    [theme=dark] .colab-df-convert:hover {\n",
              "      background-color: #434B5C;\n",
              "      box-shadow: 0px 1px 3px 1px rgba(0, 0, 0, 0.15);\n",
              "      filter: drop-shadow(0px 1px 2px rgba(0, 0, 0, 0.3));\n",
              "      fill: #FFFFFF;\n",
              "    }\n",
              "  </style>\n",
              "\n",
              "      <script>\n",
              "        const buttonEl =\n",
              "          document.querySelector('#df-407fdf1f-b660-4266-bc51-856aea477a94 button.colab-df-convert');\n",
              "        buttonEl.style.display =\n",
              "          google.colab.kernel.accessAllowed ? 'block' : 'none';\n",
              "\n",
              "        async function convertToInteractive(key) {\n",
              "          const element = document.querySelector('#df-407fdf1f-b660-4266-bc51-856aea477a94');\n",
              "          const dataTable =\n",
              "            await google.colab.kernel.invokeFunction('convertToInteractive',\n",
              "                                                     [key], {});\n",
              "          if (!dataTable) return;\n",
              "\n",
              "          const docLinkHtml = 'Like what you see? Visit the ' +\n",
              "            '<a target=\"_blank\" href=https://colab.research.google.com/notebooks/data_table.ipynb>data table notebook</a>'\n",
              "            + ' to learn more about interactive tables.';\n",
              "          element.innerHTML = '';\n",
              "          dataTable['output_type'] = 'display_data';\n",
              "          await google.colab.output.renderOutput(dataTable, element);\n",
              "          const docLink = document.createElement('div');\n",
              "          docLink.innerHTML = docLinkHtml;\n",
              "          element.appendChild(docLink);\n",
              "        }\n",
              "      </script>\n",
              "    </div>\n",
              "  </div>\n",
              "  "
            ]
          },
          "metadata": {},
          "execution_count": 3
        }
      ]
    },
    {
      "cell_type": "code",
      "source": [
        "# Get number of rows and columns in data set\n",
        "df.shape"
      ],
      "metadata": {
        "colab": {
          "base_uri": "https://localhost:8080/"
        },
        "id": "EDSxDw-N537j",
        "outputId": "612f0912-815b-4107-d842-e50f6bf6ac82"
      },
      "execution_count": 4,
      "outputs": [
        {
          "output_type": "execute_result",
          "data": {
            "text/plain": [
              "(2121, 6)"
            ]
          },
          "metadata": {},
          "execution_count": 4
        }
      ]
    },
    {
      "cell_type": "code",
      "source": [
        "# Visualize the closing price history \n",
        "plt.figure(figsize=(16, 8))\n",
        "plt.title('Close Price History')\n",
        "plt.plot(df['Close'])\n",
        "plt.xlabel('Date', fontsize=18)\n",
        "plt.ylabel('Close Price USD ($)', fontsize=18)\n",
        "plt.show()"
      ],
      "metadata": {
        "colab": {
          "base_uri": "https://localhost:8080/",
          "height": 558
        },
        "id": "H87Rr0397lsw",
        "outputId": "dff01fab-e557-4dfb-979d-d1adf829702f"
      },
      "execution_count": 5,
      "outputs": [
        {
          "output_type": "display_data",
          "data": {
            "text/plain": [
              "<Figure size 1152x576 with 1 Axes>"
            ],
            "image/png": "[encoded data removed]"
          },
          "metadata": {}
        }
      ]
    },
    {
      "cell_type": "code",
      "source": [
        "# Create a new dataframe with only the 'Close' column\n",
        "data = df.filter(['Close'])\n",
        "# Convert the dataframe to a numpy array \n",
        "dataset = data.values\n",
        "# Get/Compute the number of row to train the LSTM model on \n",
        "training_data_len = math.ceil(len(dataset) * 0.8)\n",
        "\n",
        "training_data_len\n"
      ],
      "metadata": {
        "colab": {
          "base_uri": "https://localhost:8080/"
        },
        "id": "0zuUcgIU8UHU",
        "outputId": "d8d288c7-943f-4aee-fca1-caf0507f0ecd"
      },
      "execution_count": 6,
      "outputs": [
        {
          "output_type": "execute_result",
          "data": {
            "text/plain": [
              "1697"
            ]
          },
          "metadata": {},
          "execution_count": 6
        }
      ]
    },
    {
      "cell_type": "code",
      "source": [
        "# Scale the data (to 0 - 1 inclusive)\n",
        "scaler = MinMaxScaler(feature_range=(0, 1))\n",
        "scaled_data = scaler.fit_transform(dataset)\n",
        "\n",
        "scaled_data"
      ],
      "metadata": {
        "colab": {
          "base_uri": "https://localhost:8080/"
        },
        "id": "9Iezx8ZQ80ae",
        "outputId": "b0a65a29-3d4a-44c5-f852-8ae5c3a362e7"
      },
      "execution_count": 7,
      "outputs": [
        {
          "output_type": "execute_result",
          "data": {
            "text/plain": [
              "array([[0.01160666],\n",
              "       [0.00896335],\n",
              "       [0.00960514],\n",
              "       ...,\n",
              "       [0.79715007],\n",
              "       [0.81237905],\n",
              "       [0.77686506]])"
            ]
          },
          "metadata": {},
          "execution_count": 7
        }
      ]
    },
    {
      "cell_type": "code",
      "source": [
        "# Create the training data set \n",
        "# Create the scaled training data set \n",
        "train_data = scaled_data[0:training_data_len, :]\n",
        "# Split the data into x_train and y_train data sets\n",
        "x_train = []\n",
        "y_train = []\n",
        "\n",
        "for i in range(60, len(train_data)) :\n",
        "  # 60 values labeled 0 through 59\n",
        "  x_train.append(train_data[i-60:i, 0])\n",
        "  # 61st value labeled 60\n",
        "  y_train.append(train_data[i, 0])\n",
        "  if i <= 61 :\n",
        "    print(x_train)\n",
        "    print(y_train)\n",
        "    print()"
      ],
      "metadata": {
        "colab": {
          "base_uri": "https://localhost:8080/"
        },
        "id": "Tyg14yGT9TSC",
        "outputId": "2a446b02-c8df-4848-e669-0bda66da65cf"
      },
      "execution_count": 8,
      "outputs": [
        {
          "output_type": "stream",
          "name": "stdout",
          "text": [
            "[array([0.01160666, 0.00896335, 0.00960514, 0.00875885, 0.00950289,\n",
            "       0.00799304, 0.00721419, 0.00782118, 0.01014033, 0.01252693,\n",
            "       0.01185033, 0.0088959 , 0.01072339, 0.01125423, 0.01227021,\n",
            "       0.01007071, 0.01103448, 0.00146199, 0.00021103, 0.        ,\n",
            "       0.00017839, 0.00038072, 0.00196018, 0.00278691, 0.0027695 ,\n",
            "       0.00432938, 0.00635484, 0.00787122, 0.0078625 , 0.00971392,\n",
            "       0.00961818, 0.01005331, 0.00817797, 0.00682476, 0.00554117,\n",
            "       0.00604155, 0.00484717, 0.00382248, 0.00606767, 0.00575656,\n",
            "       0.00608725, 0.00684434, 0.00708801, 0.00673774, 0.0066703 ,\n",
            "       0.00677473, 0.00789949, 0.00801262, 0.00671599, 0.00541935,\n",
            "       0.00586534, 0.00687915, 0.0068487 , 0.00629175, 0.00719896,\n",
            "       0.00857392, 0.00983575, 0.00870228, 0.00819754, 0.00806701])]\n",
            "[0.00804091068532381]\n",
            "\n",
            "[array([0.01160666, 0.00896335, 0.00960514, 0.00875885, 0.00950289,\n",
            "       0.00799304, 0.00721419, 0.00782118, 0.01014033, 0.01252693,\n",
            "       0.01185033, 0.0088959 , 0.01072339, 0.01125423, 0.01227021,\n",
            "       0.01007071, 0.01103448, 0.00146199, 0.00021103, 0.        ,\n",
            "       0.00017839, 0.00038072, 0.00196018, 0.00278691, 0.0027695 ,\n",
            "       0.00432938, 0.00635484, 0.00787122, 0.0078625 , 0.00971392,\n",
            "       0.00961818, 0.01005331, 0.00817797, 0.00682476, 0.00554117,\n",
            "       0.00604155, 0.00484717, 0.00382248, 0.00606767, 0.00575656,\n",
            "       0.00608725, 0.00684434, 0.00708801, 0.00673774, 0.0066703 ,\n",
            "       0.00677473, 0.00789949, 0.00801262, 0.00671599, 0.00541935,\n",
            "       0.00586534, 0.00687915, 0.0068487 , 0.00629175, 0.00719896,\n",
            "       0.00857392, 0.00983575, 0.00870228, 0.00819754, 0.00806701]), array([0.00896335, 0.00960514, 0.00875885, 0.00950289, 0.00799304,\n",
            "       0.00721419, 0.00782118, 0.01014033, 0.01252693, 0.01185033,\n",
            "       0.0088959 , 0.01072339, 0.01125423, 0.01227021, 0.01007071,\n",
            "       0.01103448, 0.00146199, 0.00021103, 0.        , 0.00017839,\n",
            "       0.00038072, 0.00196018, 0.00278691, 0.0027695 , 0.00432938,\n",
            "       0.00635484, 0.00787122, 0.0078625 , 0.00971392, 0.00961818,\n",
            "       0.01005331, 0.00817797, 0.00682476, 0.00554117, 0.00604155,\n",
            "       0.00484717, 0.00382248, 0.00606767, 0.00575656, 0.00608725,\n",
            "       0.00684434, 0.00708801, 0.00673774, 0.0066703 , 0.00677473,\n",
            "       0.00789949, 0.00801262, 0.00671599, 0.00541935, 0.00586534,\n",
            "       0.00687915, 0.0068487 , 0.00629175, 0.00719896, 0.00857392,\n",
            "       0.00983575, 0.00870228, 0.00819754, 0.00806701, 0.00804091])]\n",
            "[0.00804091068532381, 0.009109107283133272]\n",
            "\n"
          ]
        }
      ]
    },
    {
      "cell_type": "code",
      "source": [
        "# Convert the x_train and y_train to numpy arrays (for LSTM model training)\n",
        "x_train, y_train = np.array(x_train), np.array(y_train)"
      ],
      "metadata": {
        "id": "nU081pWu_p3I"
      },
      "execution_count": 9,
      "outputs": []
    },
    {
      "cell_type": "code",
      "source": [
        "# Reshape the data (x_train) because LSTM expects 3D dataset but only 2D right now\n",
        "x_train = np.reshape(x_train, (x_train.shape[0], x_train.shape[1], 1))\n",
        "x_train.shape"
      ],
      "metadata": {
        "colab": {
          "base_uri": "https://localhost:8080/"
        },
        "id": "qoBfnJm0_37p",
        "outputId": "ed43d3f4-4a57-4719-80a1-23a3c3cdea39"
      },
      "execution_count": 10,
      "outputs": [
        {
          "output_type": "execute_result",
          "data": {
            "text/plain": [
              "(1637, 60, 1)"
            ]
          },
          "metadata": {},
          "execution_count": 10
        }
      ]
    },
    {
      "cell_type": "code",
      "source": [
        "# Build the LSTM model \n",
        "model = Sequential()\n",
        "# layer 1\n",
        "model.add(LSTM(50, return_sequences=True, input_shape=(x_train.shape[1], 1)))\n",
        "# layer 2\n",
        "model.add(LSTM(50, return_sequences=False))\n",
        "# layer 3 (dense layer)\n",
        "model.add(Dense(25))\n",
        "# layer 4 (dense layer)\n",
        "model.add(Dense(1))\n"
      ],
      "metadata": {
        "id": "lSQBDLV-Aha2"
      },
      "execution_count": 11,
      "outputs": []
    },
    {
      "cell_type": "code",
      "source": [
        "# Compile the model \n",
        "model.compile(optimizer='adam', loss='mean_squared_error')"
      ],
      "metadata": {
        "id": "slWiIlcOBb-_"
      },
      "execution_count": 12,
      "outputs": []
    },
    {
      "cell_type": "code",
      "source": [
        "# Train (fit) the model \n",
        "model.fit(x_train, y_train, batch_size=1, epochs=1)"
      ],
      "metadata": {
        "colab": {
          "base_uri": "https://localhost:8080/"
        },
        "id": "Dyb8hcGfBmHZ",
        "outputId": "6ddc2b76-bff3-4571-cc1e-0e6b87e128d3"
      },
      "execution_count": 13,
      "outputs": [
        {
          "output_type": "stream",
          "name": "stdout",
          "text": [
            "1637/1637 [==============================] - 43s 24ms/step - loss: 6.1645e-04\n"
          ]
        },
        {
          "output_type": "execute_result",
          "data": {
            "text/plain": [
              "<keras.callbacks.History at 0x7fa2c54cd750>"
            ]
          },
          "metadata": {},
          "execution_count": 13
        }
      ]
    },
    {
      "cell_type": "code",
      "source": [
        "# Create the testing data set \n",
        "# Create a new array containing scaled values from index 1542 to 2002 (scaled testing data set)\n",
        "test_data = scaled_data[training_data_len - 60:, :]\n",
        "# Create the data sets x_test and y_test \n",
        "x_test = [] # past 60 values \n",
        "y_test = dataset[training_data_len:, :] # values we want model to predict - actual test values\n",
        "for i in range(60, len(test_data)) :\n",
        "  x_test.append(test_data[i - 60:i, 0])"
      ],
      "metadata": {
        "id": "lvV5Z_c3CVBt"
      },
      "execution_count": 14,
      "outputs": []
    },
    {
      "cell_type": "code",
      "source": [
        "# Convert the data to a numpy array \n",
        "x_test = np.array(x_test)"
      ],
      "metadata": {
        "id": "A-t-Du4VDKhY"
      },
      "execution_count": 15,
      "outputs": []
    },
    {
      "cell_type": "code",
      "source": [
        "# Reshape the data - our dataset 2D but LSTM expect 3D\n",
        "x_test = np.reshape(x_test, (x_test.shape[0], x_test.shape[1], 1))"
      ],
      "metadata": {
        "id": "NlxAAFqlDXDc"
      },
      "execution_count": 16,
      "outputs": []
    },
    {
      "cell_type": "code",
      "source": [
        "# Get the model's predicted price values \n",
        "predictions = model.predict(x_test)\n",
        "# Unscale the values - want predictions to contain same values as y_test\n",
        "predictions = scaler.inverse_transform(predictions) "
      ],
      "metadata": {
        "id": "UnsM7S6cDtaL"
      },
      "execution_count": 17,
      "outputs": []
    },
    {
      "cell_type": "code",
      "source": [
        "# Get the root mean squared error (RMSE) - measure of predictions (lower values = better fit)\n",
        "rmse = np.sqrt(np.mean((predictions - y_test) ** 2))\n",
        "rmse"
      ],
      "metadata": {
        "colab": {
          "base_uri": "https://localhost:8080/"
        },
        "id": "mS-C-hPvEJXe",
        "outputId": "3391b35d-929f-42ea-bdf7-fe33fd2e7027"
      },
      "execution_count": 20,
      "outputs": [
        {
          "output_type": "execute_result",
          "data": {
            "text/plain": [
              "10.495348730824645"
            ]
          },
          "metadata": {},
          "execution_count": 20
        }
      ]
    },
    {
      "cell_type": "code",
      "source": [
        "# Plot the data \n",
        "train = data[:training_data_len]\n",
        "valid = data[training_data_len:]\n",
        "valid['Predictions'] = predictions\n",
        "# Visualize the data \n",
        "plt.figure(figsize=(16, 8))\n",
        "plt.title('LSTM Model')\n",
        "plt.xlabel('Date', fontsize=18)\n",
        "plt.ylabel('CLose Price USD ($)', fontsize=18)\n",
        "plt.plot(train['Close'])\n",
        "plt.plot(valid[['Close', 'Predictions']])\n",
        "plt.legend(['Train', 'Val', 'Predictions'], loc='lower right')\n",
        "plt.show()"
      ],
      "metadata": {
        "colab": {
          "base_uri": "https://localhost:8080/",
          "height": 660
        },
        "id": "sRH2djWNE32N",
        "outputId": "2ec32c72-e26f-4791-b742-5d51f0d597e2"
      },
      "execution_count": 21,
      "outputs": [
        {
          "output_type": "stream",
          "name": "stderr",
          "text": [
            "/usr/local/lib/python3.7/dist-packages/ipykernel_launcher.py:4: SettingWithCopyWarning: \n",
            "A value is trying to be set on a copy of a slice from a DataFrame.\n",
            "Try using .loc[row_indexer,col_indexer] = value instead\n",
            "\n",
            "See the caveats in the documentation: https://pandas.pydata.org/pandas-docs/stable/user_guide/indexing.html#returning-a-view-versus-a-copy\n",
            "  after removing the cwd from sys.path.\n"
          ]
        },
        {
          "output_type": "display_data",
          "data": {
            "text/plain": [
              "<Figure size 1152x576 with 1 Axes>"
            ],
            "image/png": "[encoded data removed]"
          },
          "metadata": {}
        }
      ]
    },
    {
      "cell_type": "code",
      "source": [
        "# Show the valid and predicted prices \n",
        "valid"
      ],
      "metadata": {
        "colab": {
          "base_uri": "https://localhost:8080/",
          "height": 450
        },
        "id": "3ewcXXnWGDst",
        "outputId": "51897898-efa6-4d94-8128-6a5ddb75ea76"
      },
      "execution_count": 22,
      "outputs": [
        {
          "output_type": "execute_result",
          "data": {
            "text/plain": [
              "                 Close  Predictions\n",
              "Date                               \n",
              "2020-09-29  114.089996   117.319870\n",
              "2020-09-30  115.809998   118.073601\n",
              "2020-10-01  116.790001   119.039917\n",
              "2020-10-02  113.019997   120.120422\n",
              "2020-10-05  116.500000   120.651115\n",
              "...                ...          ...\n",
              "2022-05-27  149.639999   151.344040\n",
              "2022-05-31  148.839996   152.415665\n",
              "2022-06-01  148.710007   153.768616\n",
              "2022-06-02  151.210007   155.092255\n",
              "2022-06-03  145.380005   156.565201\n",
              "\n",
              "[424 rows x 2 columns]"
            ],
            "text/html": [
              "\n",
              "  <div id=\"df-0c6792cc-f022-41a4-9abe-84851d06e360\">\n",
              "    <div class=\"colab-df-container\">\n",
              "      <div>\n",
              "<style scoped>\n",
              "    .dataframe tbody tr th:only-of-type {\n",
              "        vertical-align: middle;\n",
              "    }\n",
              "\n",
              "    .dataframe tbody tr th {\n",
              "        vertical-align: top;\n",
              "    }\n",
              "\n",
              "    .dataframe thead th {\n",
              "        text-align: right;\n",
              "    }\n",
              "</style>\n",
              "<table border=\"1\" class=\"dataframe\">\n",
              "  <thead>\n",
              "    <tr style=\"text-align: right;\">\n",
              "      <th></th>\n",
              "      <th>Close</th>\n",
              "      <th>Predictions</th>\n",
              "    </tr>\n",
              "    <tr>\n",
              "      <th>Date</th>\n",
              "      <th></th>\n",
              "      <th></th>\n",
              "    </tr>\n",
              "  </thead>\n",
              "  <tbody>\n",
              "    <tr>\n",
              "      <th>2020-09-29</th>\n",
              "      <td>114.089996</td>\n",
              "      <td>117.319870</td>\n",
              "    </tr>\n",
              "    <tr>\n",
              "      <th>2020-09-30</th>\n",
              "      <td>115.809998</td>\n",
              "      <td>118.073601</td>\n",
              "    </tr>\n",
              "    <tr>\n",
              "      <th>2020-10-01</th>\n",
              "      <td>116.790001</td>\n",
              "      <td>119.039917</td>\n",
              "    </tr>\n",
              "    <tr>\n",
              "      <th>2020-10-02</th>\n",
              "      <td>113.019997</td>\n",
              "      <td>120.120422</td>\n",
              "    </tr>\n",
              "    <tr>\n",
              "      <th>2020-10-05</th>\n",
              "      <td>116.500000</td>\n",
              "      <td>120.651115</td>\n",
              "    </tr>\n",
              "    <tr>\n",
              "      <th>...</th>\n",
              "      <td>...</td>\n",
              "      <td>...</td>\n",
              "    </tr>\n",
              "    <tr>\n",
              "      <th>2022-05-27</th>\n",
              "      <td>149.639999</td>\n",
              "      <td>151.344040</td>\n",
              "    </tr>\n",
              "    <tr>\n",
              "      <th>2022-05-31</th>\n",
              "      <td>148.839996</td>\n",
              "      <td>152.415665</td>\n",
              "    </tr>\n",
              "    <tr>\n",
              "      <th>2022-06-01</th>\n",
              "      <td>148.710007</td>\n",
              "      <td>153.768616</td>\n",
              "    </tr>\n",
              "    <tr>\n",
              "      <th>2022-06-02</th>\n",
              "      <td>151.210007</td>\n",
              "      <td>155.092255</td>\n",
              "    </tr>\n",
              "    <tr>\n",
              "      <th>2022-06-03</th>\n",
              "      <td>145.380005</td>\n",
              "      <td>156.565201</td>\n",
              "    </tr>\n",
              "  </tbody>\n",
              "</table>\n",
              "<p>424 rows × 2 columns</p>\n",
              "</div>\n",
              "      <button class=\"colab-df-convert\" onclick=\"convertToInteractive('df-0c6792cc-f022-41a4-9abe-84851d06e360')\"\n",
              "              title=\"Convert this dataframe to an interactive table.\"\n",
              "              style=\"display:none;\">\n",
              "        \n",
              "  <svg xmlns=\"http://www.w3.org/2000/svg\" height=\"24px\"viewBox=\"0 0 24 24\"\n",
              "       width=\"24px\">\n",
              "    <path d=\"M0 0h24v24H0V0z\" fill=\"none\"/>\n",
              "    <path d=\"M18.56 5.44l.94 2.06.94-2.06 2.06-.94-2.06-.94-.94-2.06-.94 2.06-2.06.94zm-11 1L8.5 8.5l.94-2.06 2.06-.94-2.06-.94L8.5 2.5l-.94 2.06-2.06.94zm10 10l.94 2.06.94-2.06 2.06-.94-2.06-.94-.94-2.06-.94 2.06-2.06.94z\"/><path d=\"M17.41 7.96l-1.37-1.37c-.4-.4-.92-.59-1.43-.59-.52 0-1.04.2-1.43.59L10.3 9.45l-7.72 7.72c-.78.78-.78 2.05 0 2.83L4 21.41c.39.39.9.59 1.41.59.51 0 1.02-.2 1.41-.59l7.78-7.78 2.81-2.81c.8-.78.8-2.07 0-2.86zM5.41 20L4 18.59l7.72-7.72 1.47 1.35L5.41 20z\"/>\n",
              "  </svg>\n",
              "      </button>\n",
              "      \n",
              "  <style>\n",
              "    .colab-df-container {\n",
              "      display:flex;\n",
              "      flex-wrap:wrap;\n",
              "      gap: 12px;\n",
              "    }\n",
              "\n",
              "    .colab-df-convert {\n",
              "      background-color: #E8F0FE;\n",
              "      border: none;\n",
              "      border-radius: 50%;\n",
              "      cursor: pointer;\n",
              "      display: none;\n",
              "      fill: #1967D2;\n",
              "      height: 32px;\n",
              "      padding: 0 0 0 0;\n",
              "      width: 32px;\n",
              "    }\n",
              "\n",
              "    .colab-df-convert:hover {\n",
              "      background-color: #E2EBFA;\n",
              "      box-shadow: 0px 1px 2px rgba(60, 64, 67, 0.3), 0px 1px 3px 1px rgba(60, 64, 67, 0.15);\n",
              "      fill: #174EA6;\n",
              "    }\n",
              "\n",
              "    [theme=dark] .colab-df-convert {\n",
              "      background-color: #3B4455;\n",
              "      fill: #D2E3FC;\n",
              "    }\n",
              "\n",
              "    [theme=dark] .colab-df-convert:hover {\n",
              "      background-color: #434B5C;\n",
              "      box-shadow: 0px 1px 3px 1px rgba(0, 0, 0, 0.15);\n",
              "      filter: drop-shadow(0px 1px 2px rgba(0, 0, 0, 0.3));\n",
              "      fill: #FFFFFF;\n",
              "    }\n",
              "  </style>\n",
              "\n",
              "      <script>\n",
              "        const buttonEl =\n",
              "          document.querySelector('#df-0c6792cc-f022-41a4-9abe-84851d06e360 button.colab-df-convert');\n",
              "        buttonEl.style.display =\n",
              "          google.colab.kernel.accessAllowed ? 'block' : 'none';\n",
              "\n",
              "        async function convertToInteractive(key) {\n",
              "          const element = document.querySelector('#df-0c6792cc-f022-41a4-9abe-84851d06e360');\n",
              "          const dataTable =\n",
              "            await google.colab.kernel.invokeFunction('convertToInteractive',\n",
              "                                                     [key], {});\n",
              "          if (!dataTable) return;\n",
              "\n",
              "          const docLinkHtml = 'Like what you see? Visit the ' +\n",
              "            '<a target=\"_blank\" href=https://colab.research.google.com/notebooks/data_table.ipynb>data table notebook</a>'\n",
              "            + ' to learn more about interactive tables.';\n",
              "          element.innerHTML = '';\n",
              "          dataTable['output_type'] = 'display_data';\n",
              "          await google.colab.output.renderOutput(dataTable, element);\n",
              "          const docLink = document.createElement('div');\n",
              "          docLink.innerHTML = docLinkHtml;\n",
              "          element.appendChild(docLink);\n",
              "        }\n",
              "      </script>\n",
              "    </div>\n",
              "  </div>\n",
              "  "
            ]
          },
          "metadata": {},
          "execution_count": 22
        }
      ]
    },
    {
      "cell_type": "code",
      "source": [
        "# Predict closing price for next day \n",
        "# Get the quote\n",
        "apple_quote = yf.download('AAPL', start='2014-01-01', end='2022-06-05')\n",
        "# Create a new dataframe\n",
        "new_df = apple_quote.filter(['Close'])\n",
        "# Get the last 60 day closing price values and convert the dataframe to an arrray \n",
        "last_60_days = new_df[-60:].values\n",
        "# Scale the data to be values between 0 and 1 (inclusive)\n",
        "last_60_days_scaled = scaler.transform(last_60_days)\n",
        "# Create an empty list \n",
        "X_test = []\n",
        "# Append the past 60 days\n",
        "X_test.append(last_60_days_scaled)\n",
        "# Convert the X_test data set to a numpy array \n",
        "X_test = np.array(X_test)\n",
        "# Reshape data from 2D to 3D\n",
        "X_test = np.reshape(X_test, (X_test.shape[0], X_test.shape[1], 1))\n",
        "# Get the predicted scaled price \n",
        "pred_price = model.predict(X_test)\n",
        "# Undo the scaling \n",
        "pred_price = scaler.inverse_transform(pred_price)\n",
        "\n",
        "print(pred_price) # predicted price for next day (2019-12-18)"
      ],
      "metadata": {
        "colab": {
          "base_uri": "https://localhost:8080/"
        },
        "id": "tQ8lw96YGR5D",
        "outputId": "6adb6aef-3c25-4cbf-cbca-c7b2b1fbc68c"
      },
      "execution_count": 23,
      "outputs": [
        {
          "output_type": "stream",
          "name": "stdout",
          "text": [
            "\r[*********************100%***********************]  1 of 1 completed\n",
            "[[157.17015]]\n"
          ]
        }
      ]
    },
    {
      "cell_type": "code",
      "source": [
        "# Get the actual quote \n",
        "apple_quote2 = yf.download('AAPL', start='2022-06-04', end='2022-06-05')\n",
        "print(apple_quote2['Close'])"
      ],
      "metadata": {
        "colab": {
          "base_uri": "https://localhost:8080/"
        },
        "id": "IccLooYFIMXV",
        "outputId": "23f8e404-7355-4e02-ef4f-2c013b5bb8eb"
      },
      "execution_count": 28,
      "outputs": [
        {
          "output_type": "stream",
          "name": "stdout",
          "text": [
            "\r[*********************100%***********************]  1 of 1 completed\n",
            "Date\n",
            "2022-06-03    145.380005\n",
            "Name: Close, dtype: float64\n"
          ]
        }
      ]
    }
  ]
}